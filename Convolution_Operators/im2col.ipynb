{
 "cells": [
  {
   "cell_type": "code",
   "execution_count": 1,
   "metadata": {},
   "outputs": [
    {
     "name": "stderr",
     "output_type": "stream",
     "text": [
      "2024-04-21 22:06:13.351473: I tensorflow/core/platform/cpu_feature_guard.cc:182] This TensorFlow binary is optimized to use available CPU instructions in performance-critical operations.\n",
      "To enable the following instructions: AVX2 FMA, in other operations, rebuild TensorFlow with the appropriate compiler flags.\n"
     ]
    }
   ],
   "source": [
    "import numpy as np\n",
    "import tensorflow as tf\n",
    "import time\n",
    "from memory_profiler import memory_usage\n",
    "import matplotlib.pyplot as plt"
   ]
  },
  {
   "cell_type": "code",
   "execution_count": 2,
   "metadata": {},
   "outputs": [],
   "source": [
    "def im2col(input_image, kernel_shape, stride=1):\n",
    "    # Dimensions\n",
    "    input_height, input_width = input_image.shape\n",
    "    kernel_height, kernel_width = kernel_shape\n",
    "    output_height = (input_height - kernel_height) // stride + 1\n",
    "    output_width = (input_width - kernel_width) // stride + 1\n",
    "    \n",
    "    # column matrix\n",
    "    col = np.zeros((kernel_height * kernel_width, output_height * output_width))\n",
    "    for i in range(kernel_height):\n",
    "        for j in range(kernel_width):\n",
    "            row = i * kernel_width + j\n",
    "            for y in range(output_height):\n",
    "                for x in range(output_width):\n",
    "                    col[row, y * output_width + x] = input_image[y * stride + i, x * stride + j]\n",
    "    return col"
   ]
  },
  {
   "cell_type": "code",
   "execution_count": 3,
   "metadata": {},
   "outputs": [],
   "source": [
    "def im2col_convolution(image, kernel):\n",
    "    # im2col matrix\n",
    "    cols = im2col(image, kernel.shape)\n",
    "    # Flatten perform matrix multiplication on kernel\n",
    "    kernel_flat = kernel.flatten()\n",
    "    output = kernel_flat @ cols\n",
    "    return output.reshape((image.shape[0] - kernel.shape[0] + 1, image.shape[1] - kernel.shape[1] + 1))\n"
   ]
  },
  {
   "cell_type": "code",
   "execution_count": 4,
   "metadata": {},
   "outputs": [],
   "source": [
    "mnist = tf.keras.datasets.mnist\n",
    "(train_images, train_labels), (test_images, test_labels) = mnist.load_data()\n",
    "\n",
    "kernel = np.array([[1, 0, -1],\n",
    "                   [1, 0, -1],\n",
    "                   [1, 0, -1]])"
   ]
  },
  {
   "cell_type": "code",
   "execution_count": 5,
   "metadata": {},
   "outputs": [
    {
     "name": "stdout",
     "output_type": "stream",
     "text": [
      "Average Time: 1.64817 seconds\n",
      "Average Memory: 0.00031 MB\n"
     ]
    }
   ],
   "source": [
    "time_records = []\n",
    "memory_records = []\n",
    "\n",
    "# Process only the first 20 images\n",
    "for image in train_images[:50]:\n",
    "    start_time = time.time()  \n",
    "    mem_usage = memory_usage((im2col_convolution, (image, kernel)), interval=0.1, timeout=1)\n",
    "    time_taken = time.time() - start_time  # Time taken \n",
    "\n",
    "    time_records.append(time_taken)\n",
    "    memory_records.append(max(mem_usage) - min(mem_usage))  # Max memory used \n",
    "\n",
    "# Compute average time and memory usage\n",
    "average_time = np.mean(time_records)\n",
    "average_memory = np.mean(memory_records)\n",
    "\n",
    "print(f\"Average Time: {average_time:.5f} seconds\")\n",
    "print(f\"Average Memory: {average_memory:.5f} MB\")"
   ]
  },
  {
   "cell_type": "code",
   "execution_count": 6,
   "metadata": {},
   "outputs": [
    {
     "data": {
      "image/png": "[encoded data removed]",
      "text/plain": [
       "<Figure size 1000x500 with 2 Axes>"
      ]
     },
     "metadata": {},
     "output_type": "display_data"
    }
   ],
   "source": [
    "output_image = im2col_convolution(train_images[0], kernel)\n",
    "plt.figure(figsize=(10, 5))\n",
    "plt.subplot(1, 2, 1)\n",
    "plt.imshow(train_images[0], cmap='gray')\n",
    "plt.title('Original Image')\n",
    "plt.subplot(1, 2, 2)\n",
    "plt.imshow(output_image, cmap='gray')\n",
    "plt.title('Convolved Image')\n",
    "plt.show()"
   ]
  }
 ],
 "metadata": {
  "kernelspec": {
   "display_name": "Python 3",
   "language": "python",
   "name": "python3"
  },
  "language_info": {
   "codemirror_mode": {
    "name": "ipython",
    "version": 3
   },
   "file_extension": ".py",
   "mimetype": "text/x-python",
   "name": "python",
   "nbconvert_exporter": "python",
   "pygments_lexer": "ipython3",
   "version": "3.11.4"
  }
 },
 "nbformat": 4,
 "nbformat_minor": 2
}
